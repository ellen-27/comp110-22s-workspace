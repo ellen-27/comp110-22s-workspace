{
 "cells": [
  {
   "cell_type": "markdown",
   "metadata": {},
   "source": [
    "# Analysis for Continuous Improvement\n",
    "\n",
    "Author Name: Ellen Weaver\n",
    "\n",
    "9-digit PID: 730331514\n",
    "\n",
    "Continuous Improvement embraces a belief there is _always room to make things better_. It is a mindset and process we value and practice in this course. In this assignment, you are able to practice continuous improvement and contribute to the design ideas of the course.\n",
    "\n",
    "## Brainstorming Ideas\n",
    "\n",
    "Reflect on your personal experiences and observations in COMP110 and **brainstorm modifications to the course that _create value_ beyond its current design**. When brainstorming, try not to be critical of the ideas you come up with regarding scale, stakeholders impacted, or for any other reasons. In the markdown cell below, brainstorm 3 to 5 ideas you think would create value for you.\n",
    "\n",
    "Each brainstormed idea should state a. the suggested change or addition, b. what the expected value created, and c. which specific stakeholders would benefit.  If helpful, expand on the following template \"The course should (state idea here) because it will (state value created here) for (insert stakeholders here).\"\n",
    "\n",
    "Example A: \"The course should use only examples from psychology experiments because it will be more relevant for students who are psychology majors.\"\n",
    "\n",
    "Example B: \"The course should not have post-lesson questions because they are not useful for most students in the class.\""
   ]
  },
  {
   "cell_type": "markdown",
   "metadata": {},
   "source": [
    "### Part 1. Creative Ideation\n",
    "\n",
    "1. The course should include more quizzes because it would improve implementation and memorization of computer science skills for the students of the class. \n",
    "2. The course should include more real-life examples during lessons because it would increase the courses' relevancy to other majors. \n",
    "3. The course should use Piazza so that students do not have to attend office hours so often. \n",
    "4. The course should use Piazza to provide more examples/practice problems for students to study. \n",
    "5. The course should include more lessons about computer science history/real-life applications in order for students to know how to use their daily digital technology in the most appropriate way. "
   ]
  },
  {
   "cell_type": "markdown",
   "metadata": {},
   "source": [
    "## Connecting with Available Data\n",
    "\n",
    "The data you have available for this analysis is limited to the anonymized course survey you and your peers filled out a few weeks ago. The data is found in the `survey.csv` file in this exercise directory. Each row represents an individual survey response. Each column has a description which can be found on the project write-up here: <https://22s.comp110.com/exercises/ex08.html>\n",
    "\n",
    "Review the list of available data and identify which one of your ideas _does not_, or is _least likely to_, have relevant data to support the analysis of your idea to create value. In the box below, identify which of your ideas lacks data and suggest how we might be able to collect this data in the future. One aspect of _continuous improvement_ is trying to avoid \"tunnel vision\" where possible improvements are not considered because there is no data available to analyze it. Identifying new data sources can unlock improvements!"
   ]
  },
  {
   "cell_type": "markdown",
   "metadata": {},
   "source": [
    "### Part 2. Identifying Missing Data\n",
    "\n",
    "1. Idea without sufficient data to analyze: 4\n",
    "\n",
    "2. Suggestion for how to collect data to support this idea in the future: Idea 4 would need to know whether students thought that practice problems were effective in helping them learn the material. In the future, a survey would need to ask for whether students thought practice problems given by TAs or Professor Jordan were effective."
   ]
  },
  {
   "cell_type": "markdown",
   "metadata": {},
   "source": [
    "## Choosing an Idea to Analyze\n",
    "\n",
    "Consider those of your ideas which _do_ seem likely to have relevant data to analyze. If none of your ideas do, spend a few minutes and brainstorm another idea or two with the added connection of data available on hand and add those ideas to your brainstormed ideas list.\n",
    "\n",
    "Select the one idea which you believe is _most valuable_ to analyze relative to the others and has data to support the analysis of. In the markdown cell for Part 3 below, identify the idea you are exploring and articulate why you believe it is most valuable (e.g. widest impact, biggest opportunity for improvement, simplest change for significant improvement, and so on)."
   ]
  },
  {
   "cell_type": "markdown",
   "metadata": {},
   "source": [
    "### Part 3. Choosing Your Analysis\n",
    "\n",
    "1. Idea to analyze with available data: 1\n",
    "\n",
    "2. This idea is more valuable than the others brainstormed because: It is easier to implement, and provides the most concrete solution and reasoning. I feel as if it were confirmed and addressed, students would master or learn more from the course - making the course more impactful. It would serve unmet needs (obtaining more information), focus on learned material, and make way for more lessons to be learned.\n"
   ]
  },
  {
   "cell_type": "markdown",
   "metadata": {},
   "source": [
    "## Your Analysis\n",
    "\n",
    "Before you begin analysis, a reminder that we do not expect the data to support everyone's ideas and you can complete this exercise for full credit even if the data does not clearly support your suggestion or even completely refutes it. What we are looking for is a logical attempt to explore the data using the techniques you have learned up until now in a way that _either_ supports, refutes, or does not have a clear result and then to reflect on your findings after the analysis.\n",
    "\n",
    "Using the utility functions you created for the previous exercise, you will continue with your analysis in the following part. Before you begin, refer to the rubric on the technical expectations of this section in the exercise write-up.\n",
    "\n",
    "In this section, you are expected to interleave code and markdown cells such that for each step of your analysis you are starting with an English description of what you are planning to do next in a markdown cell, followed by a Python cell that performs that step of the analysis."
   ]
  },
  {
   "cell_type": "markdown",
   "metadata": {},
   "source": [
    "### Part 4. Analysis\n",
    "\n",
    "We begin by changing some settings in the notebook to automatically reload changes to imported files."
   ]
  },
  {
   "cell_type": "code",
   "execution_count": 98,
   "metadata": {},
   "outputs": [],
   "source": [
    "%reload_ext autoreload\n",
    "%autoreload 2"
   ]
  },
  {
   "cell_type": "markdown",
   "metadata": {},
   "source": [
    "We continue by importing the helper functions from `data_utils`."
   ]
  },
  {
   "cell_type": "code",
   "execution_count": 99,
   "metadata": {},
   "outputs": [],
   "source": [
    "from data_utils import read_csv_rows\n",
    "\n",
    "from data_utils import column_values\n",
    "\n",
    "from data_utils import columnar\n",
    "\n",
    "from data_utils import head\n",
    "\n",
    "from data_utils import select\n",
    "\n",
    "from data_utils import count"
   ]
  },
  {
   "cell_type": "markdown",
   "metadata": {},
   "source": [
    "Next, a constant is established to reference the path to the data file we will use."
   ]
  },
  {
   "cell_type": "code",
   "execution_count": 100,
   "metadata": {},
   "outputs": [],
   "source": [
    "SURVEY_DATA_CSV_FILE_PATH: str = \"../../data/survey.csv\"\n",
    "\n",
    "\n"
   ]
  },
  {
   "cell_type": "markdown",
   "metadata": {},
   "source": [
    "We should organize the CSV into a list of rows, with each row as a dictionary, because it will be easier to process in the future."
   ]
  },
  {
   "cell_type": "code",
   "execution_count": 101,
   "metadata": {},
   "outputs": [
    {
     "name": "stdout",
     "output_type": "stream",
     "text": [
      "Data File Read: ../../data/survey.csv\n",
      "620 rows\n",
      "35 columns\n",
      "Columns names: dict_keys(['row', 'year', 'unc_status', 'comp_major', 'primary_major', 'data_science', 'prereqs', 'prior_exp', 'ap_principles', 'ap_a', 'other_comp', 'prior_time', 'languages', 'hours_online_social', 'hours_online_work', 'lesson_time', 'sync_perf', 'all_sync', 'flipped_class', 'no_hybrid', 'own_notes', 'own_examples', 'oh_visits', 'ls_effective', 'lsqs_effective', 'programming_effective', 'qz_effective', 'oh_effective', 'tutoring_effective', 'pace', 'difficulty', 'understanding', 'interesting', 'valuable', 'would_recommend'])\n"
     ]
    }
   ],
   "source": [
    "data_rows: list[dict[str, str]] = read_csv_rows(SURVEY_DATA_CSV_FILE_PATH)\n",
    "\n",
    "print(f\"Data File Read: {SURVEY_DATA_CSV_FILE_PATH}\")\n",
    "\n",
    "print(f\"{len(data_rows)} rows\")\n",
    "\n",
    "print(f\"{len(data_rows[0].keys())} columns\")\n",
    "\n",
    "print(f\"Columns names: {data_rows[0].keys()}\")"
   ]
  },
  {
   "cell_type": "markdown",
   "metadata": {},
   "source": [
    "We can produce a list of all values in a single column whose name is the parameter we are focusing on; in this case, the parameter is 'qz_effective,' which displays whether students find preparing for quizzes helpful. Using this list, we can count how many of each response (1-7) is reported. "
   ]
  },
  {
   "cell_type": "code",
   "execution_count": 102,
   "metadata": {},
   "outputs": [
    {
     "name": "stdout",
     "output_type": "stream",
     "text": [
      "Column 'qz_effective' has 620 values.\n",
      "{'5': 148, '7': 148, '6': 140, '4': 79, '1': 24, '3': 50, '2': 31}\n"
     ]
    }
   ],
   "source": [
    "qz_effective: list[str] = column_values(data_rows, \"qz_effective\")\n",
    "\n",
    "print(f\"Column 'qz_effective' has {len(qz_effective)} values.\")\n",
    "\n",
    "sum_response: dict[str, int] = count(qz_effective)\n",
    "\n",
    "print(sum_response)\n",
    "\n",
    "\n"
   ]
  },
  {
   "cell_type": "markdown",
   "metadata": {},
   "source": [
    "Using the 'columnar' function, we can transform a table that is a list of rows into a dictionary of columns. This is helpful because analyses are easier to process when the data is in a column rather than a list."
   ]
  },
  {
   "cell_type": "code",
   "execution_count": 103,
   "metadata": {},
   "outputs": [
    {
     "name": "stdout",
     "output_type": "stream",
     "text": [
      "35 columns\n",
      "620 rows\n",
      "Columns names: dict_keys(['row', 'year', 'unc_status', 'comp_major', 'primary_major', 'data_science', 'prereqs', 'prior_exp', 'ap_principles', 'ap_a', 'other_comp', 'prior_time', 'languages', 'hours_online_social', 'hours_online_work', 'lesson_time', 'sync_perf', 'all_sync', 'flipped_class', 'no_hybrid', 'own_notes', 'own_examples', 'oh_visits', 'ls_effective', 'lsqs_effective', 'programming_effective', 'qz_effective', 'oh_effective', 'tutoring_effective', 'pace', 'difficulty', 'understanding', 'interesting', 'valuable', 'would_recommend'])\n"
     ]
    }
   ],
   "source": [
    "data_cols: dict[str, list[str]] = columnar(data_rows)\n",
    "\n",
    "print(f\"{len(data_cols.keys())} columns\")\n",
    "print(f\"{len(data_cols['qz_effective'])} rows\")\n",
    "print(f\"Columns names: {data_cols.keys()}\")"
   ]
  },
  {
   "cell_type": "markdown",
   "metadata": {},
   "source": [
    "This is where we establish a table - it is easier to visualize. To make sure our data is properly organized and interpretable, we use the 'head' function to see if we're on the right track. We want to produce a new column-based table with only a specific subset of the original columns. I chose columns 'qz_effective' and 'understanding' because both address the value that could be created with my idea - understanding/learning. Using this organization, we can see the correlation between effectiveness of quizzes and their understanding of course material for each individual student. "
   ]
  },
  {
   "cell_type": "code",
   "execution_count": 104,
   "metadata": {},
   "outputs": [
    {
     "data": {
      "text/html": [
       "<table>\n",
       "<thead>\n",
       "<tr><th style=\"text-align: right;\">  qz_effective</th><th style=\"text-align: right;\">  understanding</th></tr>\n",
       "</thead>\n",
       "<tbody>\n",
       "<tr><td style=\"text-align: right;\">             5</td><td style=\"text-align: right;\">              7</td></tr>\n",
       "<tr><td style=\"text-align: right;\">             5</td><td style=\"text-align: right;\">              3</td></tr>\n",
       "<tr><td style=\"text-align: right;\">             7</td><td style=\"text-align: right;\">              6</td></tr>\n",
       "<tr><td style=\"text-align: right;\">             5</td><td style=\"text-align: right;\">              5</td></tr>\n",
       "<tr><td style=\"text-align: right;\">             6</td><td style=\"text-align: right;\">              5</td></tr>\n",
       "<tr><td style=\"text-align: right;\">             7</td><td style=\"text-align: right;\">              6</td></tr>\n",
       "<tr><td style=\"text-align: right;\">             5</td><td style=\"text-align: right;\">              6</td></tr>\n",
       "<tr><td style=\"text-align: right;\">             7</td><td style=\"text-align: right;\">              7</td></tr>\n",
       "<tr><td style=\"text-align: right;\">             7</td><td style=\"text-align: right;\">              6</td></tr>\n",
       "<tr><td style=\"text-align: right;\">             7</td><td style=\"text-align: right;\">              6</td></tr>\n",
       "</tbody>\n",
       "</table>"
      ],
      "text/plain": [
       "'<table>\\n<thead>\\n<tr><th style=\"text-align: right;\">  qz_effective</th><th style=\"text-align: right;\">  understanding</th></tr>\\n</thead>\\n<tbody>\\n<tr><td style=\"text-align: right;\">             5</td><td style=\"text-align: right;\">              7</td></tr>\\n<tr><td style=\"text-align: right;\">             5</td><td style=\"text-align: right;\">              3</td></tr>\\n<tr><td style=\"text-align: right;\">             7</td><td style=\"text-align: right;\">              6</td></tr>\\n<tr><td style=\"text-align: right;\">             5</td><td style=\"text-align: right;\">              5</td></tr>\\n<tr><td style=\"text-align: right;\">             6</td><td style=\"text-align: right;\">              5</td></tr>\\n<tr><td style=\"text-align: right;\">             7</td><td style=\"text-align: right;\">              6</td></tr>\\n<tr><td style=\"text-align: right;\">             5</td><td style=\"text-align: right;\">              6</td></tr>\\n<tr><td style=\"text-align: right;\">             7</td><td style=\"text-align: right;\">              7</td></tr>\\n<tr><td style=\"text-align: right;\">             7</td><td style=\"text-align: right;\">              6</td></tr>\\n<tr><td style=\"text-align: right;\">             7</td><td style=\"text-align: right;\">              6</td></tr>\\n</tbody>\\n</table>'"
      ]
     },
     "execution_count": 104,
     "metadata": {},
     "output_type": "execute_result"
    }
   ],
   "source": [
    "from tabulate import tabulate\n",
    "\n",
    "selected_data: dict[str, list[str]] = select(data_cols, [\"qz_effective\", \"understanding\"])\n",
    "\n",
    "data_cols_head: dict[str, list[str]] = head(selected_data, 10)\n",
    "\n",
    "tabulate(data_cols_head, data_cols_head.keys(), \"html\")"
   ]
  },
  {
   "cell_type": "markdown",
   "metadata": {},
   "source": [
    "Given that we have the relationship between the effectiveness of quizzes and understanding of the material, we want to see if there is a correlation between a high value of understanding and a high value of quiz effectiveness, or vice versa. We can do this by placing the total count of each 'qz_effective' value next to the total count of 'understanding' values, so we can get a clearer picture of how the class is doing."
   ]
  },
  {
   "cell_type": "code",
   "execution_count": 105,
   "metadata": {},
   "outputs": [
    {
     "name": "stdout",
     "output_type": "stream",
     "text": [
      "Column 'understanding' has 620 values.\n",
      "{'7': 74, '3': 68, '6': 182, '5': 172, '4': 82, '2': 28, '1': 14}\n",
      "Column 'qz_effective' has 620 values.\n",
      "{'5': 148, '7': 148, '6': 140, '4': 79, '1': 24, '3': 50, '2': 31}\n"
     ]
    }
   ],
   "source": [
    "understanding: list[str] = column_values(data_rows, \"understanding\")\n",
    "\n",
    "print(f\"Column 'understanding' has {len(understanding)} values.\")\n",
    "\n",
    "sum_understanding: dict[str, int] = count(understanding)\n",
    "\n",
    "print(sum_understanding)\n",
    "\n",
    "print(f\"Column 'qz_effective' has {len(qz_effective)} values.\")\n",
    "\n",
    "print(sum_response)\n",
    "\n"
   ]
  },
  {
   "cell_type": "markdown",
   "metadata": {},
   "source": [
    "Now I want to calculate the percentages for each value for all students, or the 620 responses."
   ]
  },
  {
   "cell_type": "code",
   "execution_count": 119,
   "metadata": {},
   "outputs": [
    {
     "name": "stdout",
     "output_type": "stream",
     "text": [
      "{'5': 23.870967741935484, '7': 23.870967741935484, '6': 22.58064516129032, '4': 12.741935483870966, '1': 3.870967741935484, '3': 8.064516129032258, '2': 5.0}\n",
      "{'7': 11.935483870967742, '3': 10.967741935483872, '6': 29.354838709677416, '5': 27.741935483870968, '4': 13.225806451612904, '2': 4.516129032258064, '1': 2.258064516129032}\n"
     ]
    }
   ],
   "source": [
    "percentages_qz: dict[str,float] = {}\n",
    "\n",
    "for key in sum_response:\n",
    "    percentages_qz[key] = (sum_response[key] / len(qz_effective) * 100)\n",
    "\n",
    "print(percentages_qz)\n",
    "\n",
    "percentages_understanding: dict[str,float] = {}\n",
    "\n",
    "for key in sum_understanding:\n",
    "    percentages_understanding[key] = (sum_understanding[key] / len(understanding) * 100)\n",
    "\n",
    "print(percentages_understanding)\n"
   ]
  },
  {
   "cell_type": "markdown",
   "metadata": {},
   "source": [
    "## Conclusion\n",
    "\n",
    "In the following markdown cell, write a reflective conclusion given the analysis you performed and identify recommendations.\n",
    "\n",
    "If your analysis of the data supports your idea, state your recommendation for the change and summarize the data analysys results you found which support it. Additionally, describe any extensions or refinements to this idea which might be explored further. Finally, discuss the potential costs, trade-offs, or stakeholders who may be negatively impacted by this proposed change.\n",
    "\n",
    "If your analysis of the data is inconclusive, summarize why your data analysis results were inconclusive in the support of your idea. Additionally, describe what experimental idea implementation or additional data collection might help build more confidence in assessing your idea. Finally, discuss the potential costs, trade-offs, or stakeholders who may be negatively impacted by experimenting with your idea.\n",
    "\n",
    "Finally, if your analysis of the data does not support it, summarize your data analysis results and why it refutes your idea. Discuss the potential costs, trade-offs, or stakeholders who may be negatively impacted by this proposed change. If you disagree with the validity of the findings, describe why your idea still makes sense to implement and what alternative data would better support it. If you agree with the validity of the data analysis, describe what alternate ideas or extensions you would explore instead. "
   ]
  },
  {
   "cell_type": "markdown",
   "metadata": {},
   "source": [
    "### Part 5. Conclusion\n",
    "\n"
   ]
  },
  {
   "cell_type": "markdown",
   "metadata": {},
   "source": [
    "It looks as if my analysis of the data supports my idea (for the most part), because the values that maintained the highest percentage of response were 'postive' reflecting values - such as '5' regarding effectiveness of quizzes, or '7' which is \"Understand Everything\" on the response scale for the 'understanding' value. Because the second-highest percent score was a '3' for the understanding value (which is negative), this shows that there is still room for improvement in the course, and because the quizzes appear to be helpful/beneficial/received positive feedback, an increase in the amount of quizzes might be a good change for an increase in understanding. I wish I could organize the data into a binary, to see 'positive' feedback, versus 'negative' feedback, as I feel it would be helpful to compare these two variable (understanding and quizzes). Some potential costs include that each quiz day takes away a lecture day, and therefore less content, so learning might be crammed. TAs might be overwhelmed with grading more quizzes, as well. "
   ]
  }
 ],
 "metadata": {
  "interpreter": {
   "hash": "aee8b7b246df8f9039afb4144a1f6fd8d2ca17a180786b69acc140d282b71a49"
  },
  "kernelspec": {
   "display_name": "Python 3.10.2 64-bit",
   "language": "python",
   "name": "python3"
  },
  "language_info": {
   "codemirror_mode": {
    "name": "ipython",
    "version": 3
   },
   "file_extension": ".py",
   "mimetype": "text/x-python",
   "name": "python",
   "nbconvert_exporter": "python",
   "pygments_lexer": "ipython3",
   "version": "3.10.1"
  },
  "orig_nbformat": 4
 },
 "nbformat": 4,
 "nbformat_minor": 2
}
