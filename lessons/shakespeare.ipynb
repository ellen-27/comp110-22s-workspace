{
 "cells": [
  {
   "cell_type": "markdown",
   "metadata": {},
   "source": [
    "# Quantifying Shakespeare\n",
    "\n",
    "In this notebook we will find the frequencies with which Shakespeare's words used letters."
   ]
  },
  {
   "cell_type": "code",
   "execution_count": 9,
   "metadata": {},
   "outputs": [
    {
     "name": "stdout",
     "output_type": "stream",
     "text": [
      "239296\n"
     ]
    }
   ],
   "source": [
    "from io import TextIOWrapper\n",
    "\n",
    "def read_file(filename: str) -> list[str]:\n",
    "    \"\"\"Given the name of a file, return a list of its lines.\"\"\"\n",
    "    lines: list[str] = []\n",
    "    file: TextIOWrapper = open(filename, \"r\", encoding=\"utf8\")\n",
    "    # string \"r\" - just trying to read a file in\n",
    "    for line in file:\n",
    "        line = line.strip()\n",
    "        # strip takes spaces and strips them away so theres only text\n",
    "        line = line.lower()\n",
    "        # lower converts uppercase letters to lowercase letters\n",
    "        if line != \"\":\n",
    "            lines.append(line)\n",
    "        lines.append(line)\n",
    "    return lines\n",
    "\n",
    "shakespeare_lines: list[str] = read_file(\"./shakespeare.txt\")\n",
    "print(len(shakespeare_lines))\n",
    "\n"
   ]
  },
  {
   "cell_type": "markdown",
   "metadata": {},
   "source": [
    "The next step of our analysis is to count the letters in the lines list one-by-one to find the frequency of use of each letter.\n",
    "\n"
   ]
  },
  {
   "cell_type": "code",
   "execution_count": 13,
   "metadata": {},
   "outputs": [
    {
     "name": "stdout",
     "output_type": "stream",
     "text": [
      "{'t': 659550, 'h': 473736, 'i': 507980, 's': 497978, 'e': 894408, 'x': 10588, 'f': 161032, 'l': 340038, 'p': 116928, 'r': 475728, 'n': 486524, 'd': 298924, 'b': 123912, 'y': 188740, 'o': 629200, 'j': 9558, 'c': 176370, 'g': 136398, 'u': 257894, 'a': 578300, 'w': 178780, 'm': 222904, 'k': 70816, 'v': 75138, 'z': 3262, 'q': 7164}\n"
     ]
    }
   ],
   "source": [
    "# Goal: Define a function named `tally`\n",
    "# Give the function (as params) a dictionary reference (key: str, value: int) and a key  \n",
    "# if the key is in the dictionary, increase value by 1\n",
    "# otherwise, set key's value to 1\n",
    "# it is a procedure and return None\n",
    "\n",
    "def tally(counts: dict[str, int], key: str) -> None:\n",
    "    \"\"\"Mutate counts to increment a key by 1 if it exists, or intialize to one.\"\"\"\n",
    "    if key in counts:\n",
    "        counts[key] += 1\n",
    "    else:\n",
    "        counts[key] = 1\n",
    "    \n",
    "def count_letters(lines: list[str]) -> dict[str, int]:\n",
    "    \"\"\"Count frequencies of all letters in a list of strings.\"\"\"\n",
    "    counts: dict[str, int] = {}\n",
    "    # loop through all lines\n",
    "    #  for each line loop through all characters\n",
    "    #    tally character into the counts dictionary\n",
    "    #    challenge: tally only letters! no numbers of punctuation\n",
    "    for line in lines:\n",
    "        for chr in line:\n",
    "            if chr.isalpha():\n",
    "                tally(counts, chr)\n",
    "    return counts\n",
    "\n",
    "shakespeare_letters: dict[str, int] = count_letters(shakespeare_lines)\n",
    "print(shakespeare_letters)"
   ]
  },
  {
   "cell_type": "markdown",
   "metadata": {},
   "source": [
    "Let's create a visualization of this data with a bar chart."
   ]
  },
  {
   "cell_type": "code",
   "execution_count": 17,
   "metadata": {},
   "outputs": [
    {
     "name": "stdout",
     "output_type": "stream",
     "text": [
      "[('a', 578300), ('b', 123912), ('c', 176370), ('d', 298924), ('e', 894408), ('f', 161032), ('g', 136398), ('h', 473736), ('i', 507980), ('j', 9558), ('k', 70816), ('l', 340038), ('m', 222904), ('n', 486524), ('o', 629200), ('p', 116928), ('q', 7164), ('r', 475728), ('s', 497978), ('t', 659550), ('u', 257894), ('v', 75138), ('w', 178780), ('x', 10588), ('y', 188740), ('z', 3262)]\n",
      "{'a': 578300, 'b': 123912, 'c': 176370, 'd': 298924, 'e': 894408, 'f': 161032, 'g': 136398, 'h': 473736, 'i': 507980, 'j': 9558, 'k': 70816, 'l': 340038, 'm': 222904, 'n': 486524, 'o': 629200, 'p': 116928, 'q': 7164, 'r': 475728, 's': 497978, 't': 659550, 'u': 257894, 'v': 75138, 'w': 178780, 'x': 10588, 'y': 188740, 'z': 3262}\n"
     ]
    }
   ],
   "source": [
    "items_in_dict: list[tuple[str,int]] = list(shakespeare_letters.items())\n",
    "items_in_dict = sorted(items_in_dict)\n",
    "# sorted can be used for list of int, str, floats, tuples\n",
    "print(items_in_dict)\n",
    "\n",
    "sorted_letters: dict[str, int] = dict(items_in_dict)\n",
    "print(sorted_letters)"
   ]
  },
  {
   "cell_type": "code",
   "execution_count": 14,
   "metadata": {},
   "outputs": [
    {
     "ename": "ModuleNotFoundError",
     "evalue": "No module named 'matplotlib'",
     "output_type": "error",
     "traceback": [
      "\u001b[1;31m---------------------------------------------------------------------------\u001b[0m",
      "\u001b[1;31mModuleNotFoundError\u001b[0m                       Traceback (most recent call last)",
      "\u001b[1;32mc:\\Users\\ellen27\\comp110-22s-workspace\\lessons\\shakespeare.ipynb Cell 6'\u001b[0m in \u001b[0;36m<cell line: 1>\u001b[1;34m()\u001b[0m\n\u001b[1;32m----> <a href='vscode-notebook-cell:/c%3A/Users/ellen27/comp110-22s-workspace/lessons/shakespeare.ipynb#ch0000011?line=0'>1</a>\u001b[0m \u001b[39mfrom\u001b[39;00m \u001b[39mmatplotlib\u001b[39;00m \u001b[39mimport\u001b[39;00m pyplot\n\u001b[0;32m      <a href='vscode-notebook-cell:/c%3A/Users/ellen27/comp110-22s-workspace/lessons/shakespeare.ipynb#ch0000011?line=1'>2</a>\u001b[0m \u001b[39m# go to office hours to install matplot lib\u001b[39;00m\n\u001b[0;32m      <a href='vscode-notebook-cell:/c%3A/Users/ellen27/comp110-22s-workspace/lessons/shakespeare.ipynb#ch0000011?line=2'>3</a>\u001b[0m pyplot\u001b[39m.\u001b[39mtitle(\u001b[39m\"\u001b[39m\u001b[39mFrequencies of Letters\u001b[39m\u001b[39m\"\u001b[39m)\n",
      "\u001b[1;31mModuleNotFoundError\u001b[0m: No module named 'matplotlib'"
     ]
    }
   ],
   "source": [
    "from matplotlib import pyplot\n",
    "# go to office hours to install matplot lib\n",
    "pyplot.title(\"Frequencies of Letters\")\n",
    "pyplot.xlabel(\"Letters\")\n",
    "pyplot.ylabel(\"Frequencies\")\n",
    "labels: list[str] = list(sorted_letters.keys())\n",
    "values: list[int] = list(sorted_letters.values())\n",
    "pyplot.bar(labels, values)\n"
   ]
  }
 ],
 "metadata": {
  "interpreter": {
   "hash": "db899ee96e6f08c714ca0c780128a11beae1977b7dfcd26a62f090f9a050e142"
  },
  "kernelspec": {
   "display_name": "Python 3.9.10 64-bit (windows store)",
   "language": "python",
   "name": "python3"
  },
  "language_info": {
   "codemirror_mode": {
    "name": "ipython",
    "version": 3
   },
   "file_extension": ".py",
   "mimetype": "text/x-python",
   "name": "python",
   "nbconvert_exporter": "python",
   "pygments_lexer": "ipython3",
   "version": "3.9.10"
  },
  "orig_nbformat": 4
 },
 "nbformat": 4,
 "nbformat_minor": 2
}
